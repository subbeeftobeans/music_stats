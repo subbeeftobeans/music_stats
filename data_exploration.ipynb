{
 "cells": [
  {
   "cell_type": "code",
   "execution_count": 5,
   "id": "8d229970-1782-4005-9434-dcbc02b610a9",
   "metadata": {},
   "outputs": [
    {
     "name": "stdout",
     "output_type": "stream",
     "text": [
      "Apple Music - Top Content.csv\n",
      "Apple Music - Play Statistics.csv\n",
      "Apple Music - Feature Statistics.csv\n",
      "Apple Music - Recently Played Containers.csv\n",
      "Apple Music - Recent Impressions.csv\n",
      "Music - Onboarding Artists.csv\n",
      "Apple Music - Favorites.csv\n",
      "Apple Music - Play History Daily Tracks.csv\n",
      "Music - Onboarding Genres.csv\n",
      "Apple Music - Recently Played Tracks.csv\n",
      "Apple Music - Track Play History.csv\n",
      "Apple Music - Container Details.csv\n",
      "Music - Favorite Stations.csv\n",
      "Apple Music - Container Origin.csv\n",
      "Apple Music - Container Details-checkpoint.csv\n"
     ]
    }
   ],
   "source": [
    "from pathlib import Path\n",
    "folder = Path('/Users/ryleighbergmann/projects/music_stats')\n",
    "csv_files = list(folder. rglob ('*.csv'))\n",
    "for item in csv_files:\n",
    "    print (item.name)"
   ]
  },
  {
   "cell_type": "code",
   "execution_count": 7,
   "id": "27985f0a-f165-445f-98fa-a407b818a0b1",
   "metadata": {},
   "outputs": [
    {
     "name": "stdout",
     "output_type": "stream",
     "text": [
      "15\n"
     ]
    }
   ],
   "source": [
    "csv_files = list(folder.rglob('*.csv'))\n",
    "print (len (csv_files) )"
   ]
  },
  {
   "cell_type": "code",
   "execution_count": 3,
   "id": "39a2733e-b300-41c1-81b5-84cb9ce0cd69",
   "metadata": {
    "scrolled": true
   },
   "outputs": [
    {
     "name": "stdout",
     "output_type": "stream",
     "text": [
      "Error reading Music - Onboarding Artists.csv: Error tokenizing data. C error: Expected 1 fields in line 5, saw 4\n",
      "\n",
      "Error reading Music - Onboarding Genres.csv: Error tokenizing data. C error: Expected 1 fields in line 5, saw 3\n",
      "\n",
      "Loaded files: dict_keys(['Apple Music - Container Details-checkpoint', 'Apple Music - Container Details', 'Apple Music - Container Origin', 'Apple Music - Favorites', 'Apple Music - Feature Statistics', 'Apple Music - Play History Daily Tracks', 'Apple Music - Play Statistics', 'Apple Music - Recent Impressions', 'Apple Music - Recently Played Containers', 'Apple Music - Recently Played Tracks', 'Apple Music - Top Content', 'Apple Music - Track Play History', 'Music - Favorite Stations'])\n"
     ]
    },
    {
     "ename": "KeyError",
     "evalue": "'top_content'",
     "output_type": "error",
     "traceback": [
      "\u001b[0;31m---------------------------------------------------------------------------\u001b[0m",
      "\u001b[0;31mKeyError\u001b[0m                                  Traceback (most recent call last)",
      "Cell \u001b[0;32mIn[3], line 19\u001b[0m\n\u001b[1;32m     16\u001b[0m \u001b[38;5;28mprint\u001b[39m(\u001b[38;5;124m\"\u001b[39m\u001b[38;5;124mLoaded files:\u001b[39m\u001b[38;5;124m\"\u001b[39m, dataframes\u001b[38;5;241m.\u001b[39mkeys())\n\u001b[1;32m     18\u001b[0m \u001b[38;5;66;03m# Example: Access one of the DataFrames\u001b[39;00m\n\u001b[0;32m---> 19\u001b[0m \u001b[38;5;28mprint\u001b[39m(dataframes[\u001b[38;5;124m'\u001b[39m\u001b[38;5;124mtop_content\u001b[39m\u001b[38;5;124m'\u001b[39m]\u001b[38;5;241m.\u001b[39mhead())\n",
      "\u001b[0;31mKeyError\u001b[0m: 'top_content'"
     ]
    }
   ],
   "source": [
    "import pandas as pd\n",
    "from pathlib import Path\n",
    "\n",
    "folder = Path('/Users/ryleighbergmann/projects/music_stats')\n",
    "csv_files = sorted(folder.rglob('*.csv'))\n",
    "\n",
    "dataframes = {}\n",
    "for f in csv_files:\n",
    "    try:\n",
    "        df = pd.read_csv(f)\n",
    "        dataframes[f.stem] = df\n",
    "    except Exception as e:\n",
    "        print(f\"Error reading {f.name}: {e}\")\n",
    "\n",
    "# Print available DataFrame keys\n",
    "print(\"Loaded files:\", dataframes.keys())\n",
    "\n",
    "# Example: Access one of the DataFrames\n",
    "print(dataframes['top_content'].head())  # Make sure the key exists\n"
   ]
  },
  {
   "cell_type": "code",
   "execution_count": null,
   "id": "252163d4-a12f-48dd-96b4-e09b033b6393",
   "metadata": {},
   "outputs": [],
   "source": []
  }
 ],
 "metadata": {
  "kernelspec": {
   "display_name": "Python [conda env:base] *",
   "language": "python",
   "name": "conda-base-py"
  },
  "language_info": {
   "codemirror_mode": {
    "name": "ipython",
    "version": 3
   },
   "file_extension": ".py",
   "mimetype": "text/x-python",
   "name": "python",
   "nbconvert_exporter": "python",
   "pygments_lexer": "ipython3",
   "version": "3.12.2"
  }
 },
 "nbformat": 4,
 "nbformat_minor": 5
}
